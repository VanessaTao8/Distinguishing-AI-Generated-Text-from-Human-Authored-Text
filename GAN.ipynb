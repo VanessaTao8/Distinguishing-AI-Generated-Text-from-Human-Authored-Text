{
 "cells": [
  {
   "cell_type": "code",
   "execution_count": 2,
   "id": "e3898adc",
   "metadata": {},
   "outputs": [],
   "source": [
    "import tensorflow as tf\n",
    "from tensorflow.keras.layers import Input, Dense, LSTM, Embedding, Dropout\n",
    "from tensorflow.keras.models import Model\n",
    "from tensorflow.keras.optimizers import Adam\n",
    "\n",
    "from sklearn.model_selection import train_test_split\n",
    "from sklearn.feature_extraction.text import TfidfVectorizer\n",
    "\n",
    "import pandas as pd"
   ]
  },
  {
   "cell_type": "code",
   "execution_count": 3,
   "id": "5f045acb",
   "metadata": {},
   "outputs": [],
   "source": [
    "data = pd.read_csv('preprocessed_data.csv')\n",
    "data.dropna(subset=['cleaned_text'], inplace=True)\n",
    "data['cleaned_text'] = data['cleaned_text'].astype(str) #convert 'cleaned_text' to string"
   ]
  },
  {
   "cell_type": "code",
   "execution_count": null,
   "id": "26f39750",
   "metadata": {},
   "outputs": [],
   "source": [
    "# prepare feature matrix X and the target y\n",
    "X = data['cleaned_text']\n",
    "y = data['label'].astype(int)\n",
    "\n",
    "# tf-idf\n",
    "vectorizer = TfidfVectorizer(ngram_range=(1, 3), sublinear_tf=True)\n",
    "X_vectorized = vectorizer.fit_transform(X)\n",
    "\n",
    "\n",
    "# split data into training and testing datasets\n",
    "X_train, X_test, y_train, y_test = train_test_split(X_vectorized, y, test_size=0.2, random_state=42)\n",
    "\n",
    "\n",
    "# Convert to dense array for Tensorflow\n",
    "X_train = X_train.toarray()\n",
    "X_test = X_test.toarray()"
   ]
  },
  {
   "cell_type": "code",
   "execution_count": null,
   "id": "1638ec61",
   "metadata": {},
   "outputs": [],
   "source": [
    "# Discriminator Model\n",
    "def build_discriminator(input_shape):\n",
    "    text_input = Input(shape=(input_shape,))\n",
    "    d = Dense(512)(text_input)\n",
    "    d = LeakyReLU(alpha=0.2)(d)\n",
    "    d = Dense(256)(d)\n",
    "    d = LeakyReLU(alpha=0.2)(d)\n",
    "    d = Dense(128)(d)\n",
    "    d = LeakyReLU(alpha=0.2)(d)\n",
    "    d = Dropout(0.4)(d)\n",
    "    d = Dense(64)(d)\n",
    "    d = LeakyReLU(alpha=0.2)(d)\n",
    "    # Two outputs, one for the real/fake classification, one for the actual class\n",
    "    real_or_fake = Dense(1, activation='sigmoid')(d)\n",
    "    class_label = Dense(1, activation='sigmoid')(d) # Binary classification\n",
    "    return Model(text_input, [real_or_fake, class_label])"
   ]
  },
  {
   "cell_type": "code",
   "execution_count": null,
   "id": "a8f7cd48",
   "metadata": {},
   "outputs": [],
   "source": [
    "# Generator Model\n",
    "def build_generator(latent_dim, output_shape):\n",
    "    noise = Input(shape=(latent_dim,))\n",
    "    g = Dense(256)(noise)\n",
    "    g = LeakyReLU(alpha=0.2)(g)\n",
    "    g = Dense(512)(g)\n",
    "    g = LeakyReLU(alpha=0.2)(g)\n",
    "    g = Dense(1024)(g)\n",
    "    g = LeakyReLU(alpha=0.2)(g)\n",
    "    g = Dense(output_shape, activation='linear')(g) # No activation, linear to mimic TF-IDF\n",
    "    return Model(noise, g)\n"
   ]
  },
  {
   "cell_type": "code",
   "execution_count": null,
   "id": "e7aaac81",
   "metadata": {},
   "outputs": [],
   "source": [
    "X_train.shape[1]"
   ]
  }
 ],
 "metadata": {
  "kernelspec": {
   "display_name": "Python 3 (ipykernel)",
   "language": "python",
   "name": "python3"
  },
  "language_info": {
   "codemirror_mode": {
    "name": "ipython",
    "version": 3
   },
   "file_extension": ".py",
   "mimetype": "text/x-python",
   "name": "python",
   "nbconvert_exporter": "python",
   "pygments_lexer": "ipython3",
   "version": "3.11.5"
  }
 },
 "nbformat": 4,
 "nbformat_minor": 5
}
